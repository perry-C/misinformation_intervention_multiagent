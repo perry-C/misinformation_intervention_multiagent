{
 "cells": [
  {
   "attachments": {},
   "cell_type": "markdown",
   "metadata": {},
   "source": [
    "# Tables for stats comparison"
   ]
  },
  {
   "attachments": {},
   "cell_type": "markdown",
   "metadata": {},
   "source": [
    "## Me stats"
   ]
  },
  {
   "cell_type": "code",
   "execution_count": 5,
   "metadata": {},
   "outputs": [],
   "source": [
    "import pandas as pd\n",
    "import glob\n",
    "from utils import convert_csv_to_graph\n",
    "from network import get_network_stats\n",
    "import networkx as nx\n"
   ]
  },
  {
   "cell_type": "code",
   "execution_count": 2,
   "metadata": {},
   "outputs": [
    {
     "name": "stdout",
     "output_type": "stream",
     "text": [
      "number_of_nodes                    5956.10\n",
      "number_of_edges                   68218.60\n",
      "average_clustering_coefficient        0.57\n",
      "reciprocity                           0.33\n",
      "average_degree                       22.91\n",
      "diameter                              9.90\n",
      "average_path_length                   3.91\n",
      "average_in_degree                    11.45\n",
      "dtype: float64\n"
     ]
    }
   ],
   "source": [
    "\n",
    "folder_path = 'data/networks/'\n",
    "\n",
    "file_list = glob.glob(folder_path + '*_stats_*')\n",
    "\n",
    "dfs = []\n",
    "\n",
    "for file in file_list:\n",
    "    df = pd.read_csv(file)\n",
    "    dfs.append(df)\n",
    "\n",
    "me_stats_df = pd.concat(dfs, ignore_index=True)\n",
    "\n",
    "mean_me_stats_df = round(me_stats_df.mean(), 2)\n",
    "print(mean_me_stats_df) "
   ]
  },
  {
   "attachments": {},
   "cell_type": "markdown",
   "metadata": {},
   "source": [
    "## Twitter stats\n"
   ]
  },
  {
   "cell_type": "code",
   "execution_count": 3,
   "metadata": {},
   "outputs": [
    {
     "name": "stdout",
     "output_type": "stream",
     "text": [
      "The graph is not strongly connected\n"
     ]
    }
   ],
   "source": [
    "\n",
    "twitter_graph = convert_csv_to_graph('data/twitter/twitter_combined.csv', whole=True)\n",
    "\n",
    "twitter_stats_df = pd.DataFrame(get_network_stats(twitter_graph), index=[0])\n",
    "\n"
   ]
  },
  {
   "cell_type": "code",
   "execution_count": 10,
   "metadata": {},
   "outputs": [
    {
     "name": "stdout",
     "output_type": "stream",
     "text": [
      "   number_of_nodes  number_of_edges  average_clustering_coefficient  \\\n",
      "0            81306          1768149                        0.170572   \n",
      "\n",
      "   reciprocity  average_degree  diameter  average_path_length  \\\n",
      "0     0.481678       43.493691        15             0.017303   \n",
      "\n",
      "   average_in_degree  \n",
      "0          21.746845  \n"
     ]
    },
    {
     "data": {
      "text/plain": [
       "0.565311468612065"
      ]
     },
     "execution_count": 10,
     "metadata": {},
     "output_type": "execute_result"
    }
   ],
   "source": [
    "print(twitter_stats_df)\n",
    "\n",
    "nx.average_clustering(twitter_graph.to_undirected())\n",
    "# nx.transitivity(twitter_graph.to_undirected())"
   ]
  }
 ],
 "metadata": {
  "kernelspec": {
   "display_name": "Python 3",
   "language": "python",
   "name": "python3"
  },
  "language_info": {
   "codemirror_mode": {
    "name": "ipython",
    "version": 3
   },
   "file_extension": ".py",
   "mimetype": "text/x-python",
   "name": "python",
   "nbconvert_exporter": "python",
   "pygments_lexer": "ipython3",
   "version": "3.10.6"
  },
  "orig_nbformat": 4
 },
 "nbformat": 4,
 "nbformat_minor": 2
}
