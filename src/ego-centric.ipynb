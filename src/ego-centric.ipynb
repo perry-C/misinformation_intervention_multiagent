{
 "cells": [
  {
   "cell_type": "code",
   "execution_count": 2,
   "metadata": {},
   "outputs": [],
   "source": [
    "# Reference taken from http://syspedia.de/EgoNetworks/Ego-centric%20graphs.pdf\n",
    "\n",
    "from operator import itemgetter\n",
    "\n",
    "import matplotlib.pyplot as plt\n",
    "import networkx as nx\n",
    "import random\n",
    "import config\n",
    "from itertools import chain, combinations\n",
    "from statistics import mean\n",
    "from network import modify_reciprocity, get_network_stats, network_to_csv\n",
    "import pickle"
   ]
  },
  {
   "attachments": {},
   "cell_type": "markdown",
   "metadata": {},
   "source": [
    "# An ego-centric approach to synthesize more realistic social networks\n",
    "\n",
    "Author: Hans-Peter Stricker"
   ]
  },
  {
   "cell_type": "code",
   "execution_count": 3,
   "metadata": {},
   "outputs": [],
   "source": [
    "\n",
    "def clamp(val, lower, upper):\n",
    "    if val <= lower:\n",
    "        val = lower\n",
    "    elif val > upper:\n",
    "        val = upper\n",
    "    return val\n",
    "\n",
    "\n",
    "def get_largest_hub(G):\n",
    "    node_and_degree = G.degree()\n",
    "    (largest_hub, degree) = sorted(node_and_degree, key=itemgetter(1))[-1]\n",
    "    return largest_hub\n",
    "\n",
    "\n",
    "def powerset_of_2(iterable):\n",
    "    \"powerset_of_2([(),(1),(1,2),(1,2,3)]) --> [(1,2)]\"\n",
    "    s = list(iterable)\n",
    "    powerset = chain.from_iterable(combinations(s, r) for r in range(len(s)+1))\n",
    "    powerset_of_2 = [s for s in powerset if len(s) == 2]\n",
    "    return powerset_of_2\n",
    "\n",
    "\n",
    "def get_unique_edges(edges):\n",
    "    #  return list(set([(u, v) if u <= v else (v, u) for u, v in edges]))\n",
    "    return list(set([(u, v) if u <= v else (v, u) for u, v in edges]))\n",
    "\n",
    "\n",
    "def get_possible_edges(e0, e1, ego_net: nx.Graph, new_nodes: list[int]):\n",
    "    '''\n",
    "    These then have to be linked at random with each other and with those\n",
    "    nodes in N(e0) that are neighbours of e1.\n",
    "    '''\n",
    "\n",
    "    possible_nodes = new_nodes\n",
    "    possible_nodes.extend([n for n in nx.all_neighbors(\n",
    "        ego_net, e0) if ego_net.has_edge(n, e1)])\n",
    "    possible_edges = get_unique_edges(powerset_of_2(possible_nodes))\n",
    "\n",
    "    # Filter self-looping edges\n",
    "    possible_edges = [(u, v) for u, v in possible_edges if u != v]\n",
    "\n",
    "    return possible_edges\n",
    "\n",
    "\n",
    "def set_new_edges(e0, e1, ego_net: nx.Graph, possible_edges, d, rho):\n",
    "    '''\n",
    "    The number of these edges is given by the\n",
    "    required density of N(e1), i.e. d * (d - 1) * rho/2 - |E(N(e1))|\n",
    "\n",
    "    where |E(N(e1))| is the number\n",
    "    of edges between the neighbours of e1, which initially lie completely in N (e0).\n",
    "    '''\n",
    "\n",
    "    neighbors_of_e0 = list(nx.all_neighbors(ego_net, e0))\n",
    "    neighbors_of_e1 = list(nx.all_neighbors(ego_net, e1))\n",
    "\n",
    "    ENe1 = sum([list(ego_net.edges(n))\n",
    "               for n in neighbors_of_e1], [])\n",
    "\n",
    "    # Remove duplicate edges e.g. (2, 0) and (0,2) are the same\n",
    "    ENe1 = get_unique_edges(ENe1)\n",
    "\n",
    "    # Keep only those edges completely within neighbours of e0\n",
    "    ENe1 = [(u, v)\n",
    "            for u, v in ENe1 if (u in neighbors_of_e0) and (v in neighbors_of_e0)]\n",
    "\n",
    "    num_set_edges = clamp(\n",
    "        int(d * (d-1) * rho // 2 - len(ENe1)), 0, len(possible_edges))\n",
    "\n",
    "    for u, v in random.sample(possible_edges, num_set_edges):\n",
    "        ego_net.add_edge(u, v)\n",
    "\n",
    "\n",
    "def get_incomplete_nodes(ego_net, d):\n",
    "    incomplete_nodes = [n for n in ego_net.nodes() if ego_net.degree[n] < d]\n",
    "    return incomplete_nodes\n",
    "\n",
    "\n",
    "def sample_new_ego(ego_net, d):\n",
    "    '''\n",
    "    Get a random ego node that has not yet reached the defined degree of \"d\"\n",
    "    '''\n",
    "    # The nodes that have not reached the defined degree yet\n",
    "    incomplete_nodes = get_incomplete_nodes(ego_net, d)\n",
    "    # The ego node of the current iteration\n",
    "    e1 = random.choice(incomplete_nodes)\n",
    "    return e1\n",
    "\n",
    "\n",
    "def create_new_nodes(ego_net, num_missing_nodes, e1):\n",
    "    new_nodes = []\n",
    "\n",
    "    for _ in range(num_missing_nodes):\n",
    "        new_node = ego_net.number_of_nodes()\n",
    "        ego_net.add_node(new_node)\n",
    "        ego_net.add_edge(new_node, e1)\n",
    "        new_nodes.extend([new_node])\n",
    "\n",
    "    return new_nodes\n",
    "\n",
    "\n",
    "def get_qualified_nodes(ego_net, d, e1):\n",
    "    unqualified_nodes = list(set(sum([list(nx.all_neighbors(\n",
    "        ego_net, neighbor)) for neighbor in nx.all_neighbors(ego_net, e1)], [])))\n",
    "\n",
    "    qualified_nodes = [n for n in ego_net.nodes() if\n",
    "                       (n not in unqualified_nodes) and (ego_net.degree(n) < d)]\n",
    "\n",
    "    return qualified_nodes\n",
    "\n",
    "\n",
    "def show_network(ego_net):\n",
    "    # Seed layout for reproducibility\n",
    "    pos = nx.spring_layout(ego_net)\n",
    "    # Draw graph\n",
    "    nx.draw(ego_net, pos, node_color=\"black\", node_size=0.1, with_labels=False)\n"
   ]
  },
  {
   "attachments": {},
   "cell_type": "markdown",
   "metadata": {},
   "source": [
    "## Network generation config"
   ]
  },
  {
   "cell_type": "code",
   "execution_count": 4,
   "metadata": {},
   "outputs": [],
   "source": [
    "d = 20\n",
    "rho = config.average_clustering_coefficient\n",
    "p = 0.85\n",
    "seed = random.randrange(1,1000)\n",
    "seed = 970\n",
    "\n",
    "\n",
    "increase_steps = 200\n",
    "decrease_steps = 100\n"
   ]
  },
  {
   "attachments": {},
   "cell_type": "markdown",
   "metadata": {},
   "source": [
    "## Network generation process"
   ]
  },
  {
   "cell_type": "code",
   "execution_count": 5,
   "metadata": {},
   "outputs": [
    {
     "name": "stdout",
     "output_type": "stream",
     "text": [
      "  number of nodes: 19,                         number of edges: 141,                         average clustering coefficient: 0.8305597579425114,                         reciprocity: 0.0,                         average degree: 14.842105263157896                         diameter: 2,                         average path length: 1.1754385964912282                         average in degree: None                      \n"
     ]
    }
   ],
   "source": [
    "\n",
    "'''\n",
    "The general procedure is to start with a random ego-network N (e0 ) with d and ρ taken\n",
    "from the probability distributions (the “seed network”). \n",
    "'''\n",
    "\n",
    "\n",
    "\n",
    "G = nx.erdos_renyi_graph(d, p, seed=seed)\n",
    "# find node with largest degree\n",
    "e0 = get_largest_hub(G)\n",
    "\n",
    "ego_net: nx.Graph = nx.ego_graph(G, e0)\n",
    "\n",
    "'''\n",
    "with all nodes additionally\n",
    "linked to e0.\n",
    "'''\n",
    "for n in ego_net.nodes():\n",
    "    if n != e0:\n",
    "        ego_net.add_edge(n, e0)\n",
    "        \n",
    "\n",
    "mapping = {old: new for old, new in zip(\n",
    "    ego_net.nodes(), range(ego_net.number_of_nodes()))}\n",
    "ego_net = nx.relabel_nodes(ego_net, mapping)\n",
    "\n",
    "'''\n",
    "The next ego-network N (e1) is created by picking an e1 ∈ N (e0) at\n",
    "random, checking the number of missing edges d − d(e1) and adding as many new nodes\n",
    "from scratch. These then have to be linked at random with each other and with those\n",
    "nodes in N (e0 ) that are neighbours of e1.\n",
    "'''\n",
    "get_network_stats(ego_net)\n",
    "\n"
   ]
  },
  {
   "attachments": {},
   "cell_type": "markdown",
   "metadata": {},
   "source": [
    "### 1. Increase step"
   ]
  },
  {
   "cell_type": "code",
   "execution_count": 6,
   "metadata": {},
   "outputs": [
    {
     "name": "stdout",
     "output_type": "stream",
     "text": [
      "  number of nodes: 1941,                         number of edges: 11118,                         average clustering coefficient: 0.8134013706793802,                         reciprocity: 0.0,                         average degree: 11.45595054095827                         diameter: 18,                         average path length: 8.939940088274192                         average in degree: None                      \n"
     ]
    }
   ],
   "source": [
    "\n",
    "\n",
    "step = 0\n",
    "while step < increase_steps:\n",
    "\n",
    "    e1 = sample_new_ego(ego_net, d)\n",
    "\n",
    "    num_missing_nodes = d - ego_net.degree[e1]\n",
    "\n",
    "    new_nodes = create_new_nodes(ego_net, num_missing_nodes, e1)\n",
    "\n",
    "    possible_edges = get_possible_edges(e0, e1, ego_net, new_nodes)\n",
    "    set_new_edges(e0, e1, ego_net, possible_edges, d, rho)\n",
    "\n",
    "    e0 = e1\n",
    "    step += 1\n",
    "\n",
    "\n",
    "\n",
    "get_network_stats(ego_net)"
   ]
  },
  {
   "attachments": {},
   "cell_type": "markdown",
   "metadata": {},
   "source": [
    "### 2. Decrease step"
   ]
  },
  {
   "cell_type": "code",
   "execution_count": 7,
   "metadata": {},
   "outputs": [
    {
     "name": "stdout",
     "output_type": "stream",
     "text": [
      "  number of nodes: 2395,                         number of edges: 15692,                         average clustering coefficient: 0.6622365086233541,                         reciprocity: 0.0,                         average degree: 13.103966597077244                         diameter: 10,                         average path length: 4.577209202547078                         average in degree: None                      \n"
     ]
    }
   ],
   "source": [
    "step = 0\n",
    "while step < decrease_steps:\n",
    "    e1 = sample_new_ego(ego_net, d)\n",
    "\n",
    "    num_missing_nodes = d - ego_net.degree[e1]\n",
    "\n",
    "    '''\n",
    "    During the decrease stage, we reduce the amount of new nodes, \n",
    "    while taking the rest from the exisiting nodes, conforming to 2 restrictions\n",
    "    '''\n",
    "    num_new_nodes = round((1 - step/decrease_steps) * num_missing_nodes)\n",
    "\n",
    "\n",
    "    \n",
    "    \n",
    "    # The nodes newly created combined with the existing nodes qualified\n",
    "    new_nodes = create_new_nodes(ego_net, num_new_nodes, e1)\n",
    "\n",
    "    '''\n",
    "    ...But only those are allowed which fulfill the requirements: (i) the degree d(ei)\n",
    "    must be smaller than d, and (ii) they must not be in one of the ego-networks that the\n",
    "    current ego-node ej is already in\n",
    "    \n",
    "    How do we find out that the existing node is not inside any of the network of the\n",
    "    current ego node?\n",
    "    \n",
    "    1. find all the networks that e1 is in:\n",
    "        follow up: How do we know that? \n",
    "    2. excluding that from the exisiting nodes list\n",
    "    \n",
    "    I mean the definition of an ego network is the central node and its direct neighbors right?\n",
    "    So we just have to filter out all the ego networks formed by e1's direct neighbors, since any\n",
    "    thing beyond that is not going to form a large enough ego network that would overlap e1   \n",
    "    '''\n",
    "\n",
    "    qualified_nodes = get_qualified_nodes(ego_net, d, e1)\n",
    "    \n",
    "    num_sample_nodes = clamp(num_missing_nodes - num_new_nodes, 0, len(qualified_nodes))\n",
    "    \n",
    "    new_nodes.extend(random.sample(qualified_nodes, num_sample_nodes))\n",
    "\n",
    "    \n",
    "    possible_edges = get_possible_edges(e0, e1, ego_net, new_nodes)\n",
    "    set_new_edges(e0, e1, ego_net, possible_edges, d, rho)\n",
    "\n",
    "    e0 = e1\n",
    "    step += 1\n",
    "\n",
    "get_network_stats(ego_net)"
   ]
  },
  {
   "attachments": {},
   "cell_type": "markdown",
   "metadata": {},
   "source": [
    "### 3. Completion step"
   ]
  },
  {
   "cell_type": "code",
   "execution_count": 8,
   "metadata": {},
   "outputs": [
    {
     "name": "stdout",
     "output_type": "stream",
     "text": [
      "  number of nodes: 2395,                         number of edges: 18216,                         average clustering coefficient: 0.5627124843647432,                         reciprocity: 0.0,                         average degree: 15.211691022964509                         diameter: 7,                         average path length: 3.8274621836428233                         average in degree: None                      \n"
     ]
    }
   ],
   "source": [
    "skipped_nodes = []\n",
    "\n",
    "while incomplete_nodes := [n for n in get_incomplete_nodes(ego_net, d) if (n not in skipped_nodes)]:\n",
    "    e1 = random.choice(incomplete_nodes)\n",
    "    \n",
    "    qualified_nodes = get_qualified_nodes(ego_net,d,e1)\n",
    "    \n",
    "    if not qualified_nodes:\n",
    "        skipped_nodes.extend([e1])\n",
    "        continue\n",
    "    \n",
    "    num_missing_nodes = clamp(d - ego_net.degree[e1], 0, len(qualified_nodes))\n",
    "    new_nodes = random.sample(qualified_nodes, num_missing_nodes)\n",
    "    possible_edges = get_possible_edges(e0, e1, ego_net, new_nodes)\n",
    "    \n",
    "    if not possible_edges:\n",
    "        skipped_nodes.extend([e1])\n",
    "        continue\n",
    "    \n",
    "    set_new_edges(e0, e1, ego_net, possible_edges, d, rho)\n",
    "    e0 = e1\n",
    "    \n",
    "    if (nx.transitivity(ego_net)) <= rho:\n",
    "        break\n",
    "\n",
    "\n",
    "\n",
    "get_network_stats(ego_net)"
   ]
  },
  {
   "cell_type": "code",
   "execution_count": 9,
   "metadata": {},
   "outputs": [],
   "source": [
    "ego_net = ego_net.to_directed()\n",
    "\n",
    "modify_reciprocity(ego_net)\n",
    "\n",
    "with open('data/ego_net.pkl', 'wb') as fp:\n",
    "    pickle.dump(ego_net, fp)\n",
    "\n",
    "network_to_csv(ego_net)"
   ]
  },
  {
   "cell_type": "code",
   "execution_count": 10,
   "metadata": {},
   "outputs": [
    {
     "name": "stdout",
     "output_type": "stream",
     "text": [
      "  number of nodes: 2395,                         number of edges: 21860,                         average clustering coefficient: 0.5627124843647432,                         reciprocity: 0.3333943275388838,                         average degree: 18.254697286012526                         diameter: 11,                         average path length: 3.8274621836428233                         average in degree: 9.127348643006263                      \n"
     ]
    }
   ],
   "source": [
    "\n",
    "get_network_stats(ego_net)\n",
    "\n"
   ]
  },
  {
   "cell_type": "code",
   "execution_count": null,
   "metadata": {},
   "outputs": [],
   "source": []
  }
 ],
 "metadata": {
  "kernelspec": {
   "display_name": "Python 3",
   "language": "python",
   "name": "python3"
  },
  "language_info": {
   "codemirror_mode": {
    "name": "ipython",
    "version": 3
   },
   "file_extension": ".py",
   "mimetype": "text/x-python",
   "name": "python",
   "nbconvert_exporter": "python",
   "pygments_lexer": "ipython3",
   "version": "3.10.6"
  },
  "orig_nbformat": 4,
  "vscode": {
   "interpreter": {
    "hash": "916dbcbb3f70747c44a77c7bcd40155683ae19c65e1c03b4aa3499c5328201f1"
   }
  }
 },
 "nbformat": 4,
 "nbformat_minor": 2
}
