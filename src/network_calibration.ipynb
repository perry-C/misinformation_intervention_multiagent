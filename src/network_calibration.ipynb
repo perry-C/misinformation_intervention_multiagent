{
 "cells": [
  {
   "cell_type": "code",
   "execution_count": 91,
   "metadata": {},
   "outputs": [],
   "source": [
    "\n",
    "import glob\n",
    "import networkx as nx\n",
    "import pandas as pd\n",
    "from network import generate_ego_network, modify_reciprocity, get_network_stats, increase_clustering_coefficient\n",
    "from ipysigma import Sigma\n",
    "import numpy as np\n",
    "from utils import convert_csv_to_graph\n",
    "'''\n",
    "(Could mention this in my paper that:)\n",
    "the original paper has not provided any implementation details\n",
    "as to how to reproduce this 'synthetic network', after tuning a few\n",
    "parameters... I believe I have reached a similar result ...\n",
    "'''\n",
    "\n",
    "'''\n",
    "More specifically, we match: (i) the average clustering coeifficient,\n",
    "(ii) average in-Degree, and (iii) reciprocity ratio of links.\n",
    "'''\n",
    "\n",
    "# set the path of the folder containing the files\n",
    "folder_path = 'data/twitter/'\n",
    "\n",
    "# use glob to retrieve all files with the suffix .edges\n",
    "file_list = glob.glob(folder_path + '*.edges')\n",
    "\n",
    "target_metric = np.array([21.74, 0.60, 0.33])\n",
    "\n",
    "collected_metric = {'average_in_degree': [],\n",
    "                    'average_clustering_coefficient': [],\n",
    "                    'reciprocity': []\n",
    "                    }  \n",
    "\n"
   ]
  },
  {
   "cell_type": "code",
   "execution_count": null,
   "metadata": {},
   "outputs": [],
   "source": [
    "\n",
    "for file in file_list:\n",
    "        \n",
    "        ego_net = convert_csv_to_graph(file)\n",
    "        \n",
    "        \n",
    "       \n",
    "        stat_info = get_network_stats(ego_net)\n",
    "        \n",
    "        collected_metric['average_in_degree'].extend([stat_info['average_in_degree'][0]])\n",
    "        collected_metric['average_clustering_coefficient'].extend([stat_info['average_clustering_coefficient'][0]])\n",
    "        collected_metric['reciprocity'].extend([stat_info['reciprocity'][0]])\n",
    " "
   ]
  },
  {
   "cell_type": "code",
   "execution_count": 92,
   "metadata": {},
   "outputs": [
    {
     "data": {
      "text/html": [
       "<div>\n",
       "<style scoped>\n",
       "    .dataframe tbody tr th:only-of-type {\n",
       "        vertical-align: middle;\n",
       "    }\n",
       "\n",
       "    .dataframe tbody tr th {\n",
       "        vertical-align: top;\n",
       "    }\n",
       "\n",
       "    .dataframe thead th {\n",
       "        text-align: right;\n",
       "    }\n",
       "</style>\n",
       "<table border=\"1\" class=\"dataframe\">\n",
       "  <thead>\n",
       "    <tr style=\"text-align: right;\">\n",
       "      <th></th>\n",
       "      <th>number_of_nodes</th>\n",
       "      <th>number_of_edges</th>\n",
       "      <th>average_clustering_coefficient</th>\n",
       "      <th>reciprocity</th>\n",
       "      <th>average_degree</th>\n",
       "      <th>diameter</th>\n",
       "      <th>average_path_length</th>\n",
       "      <th>average_in_degree</th>\n",
       "    </tr>\n",
       "  </thead>\n",
       "  <tbody>\n",
       "    <tr>\n",
       "      <th>0</th>\n",
       "      <td>215</td>\n",
       "      <td>4677</td>\n",
       "      <td>0.538275</td>\n",
       "      <td>0.441309</td>\n",
       "      <td>43.506977</td>\n",
       "      <td>8</td>\n",
       "      <td>1.8416</td>\n",
       "      <td>21.753488</td>\n",
       "    </tr>\n",
       "  </tbody>\n",
       "</table>\n",
       "</div>"
      ],
      "text/plain": [
       "   number_of_nodes  number_of_edges  average_clustering_coefficient  \\\n",
       "0              215             4677                        0.538275   \n",
       "\n",
       "   reciprocity  average_degree  diameter  average_path_length  \\\n",
       "0     0.441309       43.506977         8               1.8416   \n",
       "\n",
       "   average_in_degree  \n",
       "0          21.753488  "
      ]
     },
     "execution_count": 92,
     "metadata": {},
     "output_type": "execute_result"
    }
   ],
   "source": [
    "best_file = 'data/twitter/2363991.edges'\n",
    "\n",
    "\n",
    "ego_net = convert_csv_to_graph(best_file)\n",
    "\n",
    "get_network_stats(ego_net)\n"
   ]
  },
  {
   "cell_type": "code",
   "execution_count": null,
   "metadata": {},
   "outputs": [],
   "source": []
  }
 ],
 "metadata": {
  "kernelspec": {
   "display_name": "Python 3",
   "language": "python",
   "name": "python3"
  },
  "language_info": {
   "codemirror_mode": {
    "name": "ipython",
    "version": 3
   },
   "file_extension": ".py",
   "mimetype": "text/x-python",
   "name": "python",
   "nbconvert_exporter": "python",
   "pygments_lexer": "ipython3",
   "version": "3.10.6"
  },
  "orig_nbformat": 4,
  "vscode": {
   "interpreter": {
    "hash": "916dbcbb3f70747c44a77c7bcd40155683ae19c65e1c03b4aa3499c5328201f1"
   }
  }
 },
 "nbformat": 4,
 "nbformat_minor": 2
}
