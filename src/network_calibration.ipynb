{
 "cells": [
  {
   "cell_type": "code",
   "execution_count": 3,
   "metadata": {},
   "outputs": [],
   "source": [
    "import networkx as nx\n",
    "import pandas as pd\n",
    "from network import generate_ego_network, modify_reciprocity, get_network_stats"
   ]
  },
  {
   "cell_type": "code",
   "execution_count": 29,
   "metadata": {},
   "outputs": [
    {
     "name": "stdout",
     "output_type": "stream",
     "text": [
      "[0.08002024 0.27442077 0.19986848 0.26871282 0.17729277 0.19341522\n",
      " 0.24694148 0.06858702 0.29477972 0.3794087 ]\n"
     ]
    }
   ],
   "source": [
    "from numpy.random import beta\n",
    "\n",
    "# Left wing supporters will have large beta value\n",
    "left_wing_opinion = beta(2, 8, 10)\n",
    "\n",
    "\n",
    "\n",
    "print(left_wing_opinion)\n",
    "\n",
    "\n"
   ]
  },
  {
   "cell_type": "code",
   "execution_count": 2,
   "metadata": {},
   "outputs": [
    {
     "ename": "NameError",
     "evalue": "name 'generate_ego_network' is not defined",
     "output_type": "error",
     "traceback": [
      "\u001b[0;31m---------------------------------------------------------------------------\u001b[0m",
      "\u001b[0;31mNameError\u001b[0m                                 Traceback (most recent call last)",
      "Cell \u001b[0;32mIn [2], line 36\u001b[0m\n\u001b[1;32m     34\u001b[0m \u001b[39mfor\u001b[39;00m n \u001b[39min\u001b[39;00m n_nodes:\n\u001b[1;32m     35\u001b[0m     \u001b[39mfor\u001b[39;00m e \u001b[39min\u001b[39;00m edges_attached:\n\u001b[0;32m---> 36\u001b[0m         ego_network \u001b[39m=\u001b[39m generate_ego_network(n, e, i)\n\u001b[1;32m     38\u001b[0m         \u001b[39m# increase_clustering_coefficient(ego_network, 0.6565)\u001b[39;00m\n\u001b[1;32m     40\u001b[0m         \u001b[39mprint\u001b[39m(nx\u001b[39m.\u001b[39maverage_clustering(ego_network))\n",
      "\u001b[0;31mNameError\u001b[0m: name 'generate_ego_network' is not defined"
     ]
    }
   ],
   "source": [
    "'''\n",
    "(Could mention this in my paper that:)\n",
    "the original paper has not provided any implementation details\n",
    "as to how to reproduce this 'synthetic network', after tuning a few\n",
    "parameters... I believe I have reached a similar result ...\n",
    "'''\n",
    "\n",
    "# n_nodes = 81306\n",
    "# edges_attached = 150\n",
    "# n_generate_network = 1\n",
    "\n",
    "# n_nodes = [n for n in range(5000, 100000, 5000)]\n",
    "# edges_attached = [e for e in range(10, 50, 10)]\n",
    "\n",
    "n_nodes = [1000]\n",
    "edges_attached = [50]\n",
    "n_generate_network = 1\n",
    "\n",
    "'''\n",
    "More specifically, we match: (i) the average clustering coeifficient,\n",
    "(ii) average in-Degree, and (iii) reciprocity ratio of links.\n",
    "'''\n",
    "\n",
    "network_stats = {'n_nodes': [],\n",
    "                 'edges_attached': [],\n",
    "                 'average_clustering': [],\n",
    "                 'average_in_degree': [],\n",
    "                 'reciprocity': [],\n",
    "                 'ego_nodes': [],\n",
    "                 'ego_edges': []\n",
    "                 }\n",
    "\n",
    "for i in range(n_generate_network):\n",
    "    for n in n_nodes:\n",
    "        for e in edges_attached:\n",
    "            ego_network = generate_ego_network(n, e, i)\n",
    "\n",
    "            # increase_clustering_coefficient(ego_network, 0.6565)\n",
    "            \n",
    "            print(nx.average_clustering(ego_network))\n",
    "            \n",
    "            modify_reciprocity(ego_network)\n",
    "                    \n",
    "            ac, aid, r = get_network_stats(ego_network)\n",
    "            network_stats['n_nodes'].extend([n])\n",
    "            network_stats['edges_attached'].extend([e])\n",
    "            network_stats['average_clustering'].extend([ac])\n",
    "            network_stats['average_in_degree'].extend([aid])\n",
    "            network_stats['reciprocity'].extend([r])\n",
    "            network_stats['ego_nodes'].extend([len(ego_network.nodes())])\n",
    "            network_stats['ego_edges'].extend([len(ego_network.edges())])\n",
    "\n",
    "network_stats_df = pd.DataFrame(network_stats)\n",
    "\n",
    "print(network_stats_df)\n",
    "\n",
    "network_stats_df.to_csv(\"data/network_stats.csv\")\n",
    "\n",
    "# print(), len(ego_network.edges()))\n",
    "\n",
    "# Sigma(ego_network)\n"
   ]
  }
 ],
 "metadata": {
  "kernelspec": {
   "display_name": "Python 3",
   "language": "python",
   "name": "python3"
  },
  "language_info": {
   "codemirror_mode": {
    "name": "ipython",
    "version": 3
   },
   "file_extension": ".py",
   "mimetype": "text/x-python",
   "name": "python",
   "nbconvert_exporter": "python",
   "pygments_lexer": "ipython3",
   "version": "3.10.6"
  },
  "orig_nbformat": 4,
  "vscode": {
   "interpreter": {
    "hash": "916dbcbb3f70747c44a77c7bcd40155683ae19c65e1c03b4aa3499c5328201f1"
   }
  }
 },
 "nbformat": 4,
 "nbformat_minor": 2
}
