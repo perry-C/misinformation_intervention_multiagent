{
 "cells": [
  {
   "cell_type": "code",
   "execution_count": 2,
   "metadata": {},
   "outputs": [
    {
     "name": "stderr",
     "output_type": "stream",
     "text": [
      "100%|██████████| 235/235 [00:00<00:00, 1121344.07it/s]"
     ]
    },
    {
     "name": "stdout",
     "output_type": "stream",
     "text": [
      "\n"
     ]
    },
    {
     "name": "stderr",
     "output_type": "stream",
     "text": [
      "\n"
     ]
    }
   ],
   "source": [
    "import networkx as nx\n",
    "import pandas as pd\n",
    "from network import generate_ego_network, modify_reciprocity, get_network_stats\n",
    "import config\n",
    "import pickle\n",
    "\n",
    "'''\n",
    "(Could mention this in my paper that:)\n",
    "the original paper has not provided any implementation details\n",
    "as to how to reproduce this 'synthetic network', after tuning a few\n",
    "parameters... I believe I have reached a similar result ...\n",
    "'''\n",
    "\n",
    "# n_nodes = 81306\n",
    "# edges_attached = 150\n",
    "# n_generate_network = 1\n",
    "\n",
    "# n_nodes = [n for n in range(5000, 100000, 5000)]\n",
    "# edges_attached = [e for e in range(10, 50, 10)]\n",
    "\n",
    "edges_attached = [5]\n",
    "\n",
    "'''\n",
    "More specifically, we match: (i) the average clustering coeifficient,\n",
    "(ii) average in-Degree, and (iii) reciprocity ratio of links.\n",
    "'''\n",
    "\n",
    "network_stats = {'n_nodes': [],\n",
    "                 'edges_attached': [],\n",
    "                 'average_clustering': [],\n",
    "                 'average_in_degree': [],\n",
    "                 'reciprocity': [],\n",
    "                 'ego_nodes': [],\n",
    "                 'ego_edges': []\n",
    "                 }\n",
    "\n",
    "for i in range(config.number_of_simulations):\n",
    "    for n in [config.number_of_nodes]:\n",
    "        for e in edges_attached:\n",
    "            ego_network = generate_ego_network(n, e, i)\n",
    "            pickle.dump(ego_network, open(f'data/networks/egonet_{i}.pkl', 'wb'))\n",
    "            # increase_clustering_coefficient(ego_network, 0.6565)\n",
    "            \n",
    "            modify_reciprocity(ego_network)\n",
    "                    \n",
    "            ac, aid, r = get_network_stats(ego_network)\n",
    "            network_stats['n_nodes'].extend([n])\n",
    "            network_stats['edges_attached'].extend([e])\n",
    "            network_stats['average_clustering'].extend([ac])\n",
    "            network_stats['average_in_degree'].extend([aid])\n",
    "            network_stats['reciprocity'].extend([r])\n",
    "            network_stats['ego_nodes'].extend([len(ego_network.nodes())])\n",
    "            network_stats['ego_edges'].extend([len(ego_network.edges())])\n",
    "\n",
    "network_stats_df = pd.DataFrame(network_stats)\n",
    "network_stats_df.to_csv(\"data/network_stats.csv\")\n",
    "\n",
    "\n",
    "\n",
    "\n",
    "# print(), len(ego_network.edges()))\n",
    "\n",
    "# Sigma(ego_network)\n"
   ]
  }
 ],
 "metadata": {
  "kernelspec": {
   "display_name": "Python 3",
   "language": "python",
   "name": "python3"
  },
  "language_info": {
   "codemirror_mode": {
    "name": "ipython",
    "version": 3
   },
   "file_extension": ".py",
   "mimetype": "text/x-python",
   "name": "python",
   "nbconvert_exporter": "python",
   "pygments_lexer": "ipython3",
   "version": "3.10.6 (main, Nov 14 2022, 16:10:14) [GCC 11.3.0]"
  },
  "orig_nbformat": 4,
  "vscode": {
   "interpreter": {
    "hash": "916dbcbb3f70747c44a77c7bcd40155683ae19c65e1c03b4aa3499c5328201f1"
   }
  }
 },
 "nbformat": 4,
 "nbformat_minor": 2
}
