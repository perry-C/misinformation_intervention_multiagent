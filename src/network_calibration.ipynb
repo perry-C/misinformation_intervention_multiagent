{
 "cells": [
  {
   "cell_type": "code",
   "execution_count": 1,
   "metadata": {},
   "outputs": [
    {
     "name": "stderr",
     "output_type": "stream",
     "text": [
      "100%|██████████| 6924/6924 [00:00<00:00, 826588.52it/s]\n"
     ]
    },
    {
     "name": "stdout",
     "output_type": "stream",
     "text": [
      "\n"
     ]
    }
   ],
   "source": [
    "import networkx as nx\n",
    "import pandas as pd\n",
    "from network import generate_ego_network, modify_reciprocity, get_network_stats\n",
    "import config\n",
    "import pickle\n",
    "from ipysigma import Sigma\n",
    "'''\n",
    "(Could mention this in my paper that:)\n",
    "the original paper has not provided any implementation details\n",
    "as to how to reproduce this 'synthetic network', after tuning a few\n",
    "parameters... I believe I have reached a similar result ...\n",
    "'''\n",
    "\n",
    "n_nodes = 200\n",
    "edges_attached = 10\n",
    "n_generate_network = 1\n",
    "\n",
    "# n_nodes = [n for n in range(5000, 100000, 5000)]\n",
    "# edges_attached = [e for e in range(10, 50, 10)]\n",
    "\n",
    "'''\n",
    "More specifically, we match: (i) the average clustering coeifficient,\n",
    "(ii) average in-Degree, and (iii) reciprocity ratio of links.\n",
    "'''\n",
    "\n",
    "network_stats = {'n_nodes': [],\n",
    "                 'edge_attach_probability': [],\n",
    "                 'average_clustering': [],\n",
    "                 'average_in_degree': [],\n",
    "                 'reciprocity': [],\n",
    "                 'ego_nodes': [],\n",
    "                 'ego_edges': []\n",
    "                 }\n",
    "\n",
    "\n",
    "# print(config.edge_creation_probability)\n",
    "\n",
    "for i in range(config.number_of_simulations):\n",
    "    for d in [config.number_of_nodes]:\n",
    "        for p in [config.edge_creation_probability]:\n",
    "            ego_network = generate_ego_network(d, p, i)\n",
    "            # increase_clustering_coefficient(ego_network, 0.6565)\n",
    "            \n",
    "            modify_reciprocity(ego_network)\n",
    "            \n",
    "            mapping =  {old:new for old, new in zip(ego_network.nodes(),range(ego_network.number_of_nodes()))}\n",
    "            \n",
    "            ego_network = nx.relabel_nodes(ego_network, mapping)\n",
    "            # nx.draw(ego_network)  \n",
    "            ac, aid, r = get_network_stats(ego_network)\n",
    "            network_stats['n_nodes'].extend([d])\n",
    "            network_stats['edge_attach_probability'].extend([p])\n",
    "            network_stats['average_clustering'].extend([ac])\n",
    "            network_stats['average_in_degree'].extend([aid])\n",
    "            network_stats['reciprocity'].extend([r])\n",
    "            network_stats['ego_nodes'].extend([len(ego_network.nodes())])\n",
    "            network_stats['ego_edges'].extend([len(ego_network.edges())])\n",
    "            \n",
    "            pickle.dump(ego_network, open(f'data/networks/egonet_{i}.pkl', 'wb'))\n",
    "            # Sigma(ego_network)\n",
    "\n",
    "# nx.draw(ego_network)\n",
    "network_stats_df = pd.DataFrame(network_stats)\n",
    "network_stats_df.to_csv(\"data/network_stats.csv\")\n",
    "\n",
    "\n",
    "\n",
    "# print(), len(ego_network.edges()))\n",
    "\n"
   ]
  }
 ],
 "metadata": {
  "kernelspec": {
   "display_name": "Python 3",
   "language": "python",
   "name": "python3"
  },
  "language_info": {
   "codemirror_mode": {
    "name": "ipython",
    "version": 3
   },
   "file_extension": ".py",
   "mimetype": "text/x-python",
   "name": "python",
   "nbconvert_exporter": "python",
   "pygments_lexer": "ipython3",
   "version": "3.10.6"
  },
  "orig_nbformat": 4,
  "vscode": {
   "interpreter": {
    "hash": "916dbcbb3f70747c44a77c7bcd40155683ae19c65e1c03b4aa3499c5328201f1"
   }
  }
 },
 "nbformat": 4,
 "nbformat_minor": 2
}
