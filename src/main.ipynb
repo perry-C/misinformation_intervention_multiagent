{
 "cells": [
  {
   "cell_type": "code",
   "execution_count": 3,
   "metadata": {},
   "outputs": [],
   "source": [
    "%matplotlib inline\n",
    "from data import Data\n",
    "import matplotlib.pyplot as plt\n",
    "from model import NewsModel\n",
    "import igraph as ig\n",
    "from d3blocks import D3Blocks\n",
    "import pandas as pd\n",
    "from ipysigma import Sigma\n",
    "import os\n",
    "\n",
    "os.chdir(\"../\")"
   ]
  },
  {
   "attachments": {},
   "cell_type": "markdown",
   "metadata": {},
   "source": [
    "## Visualisation"
   ]
  },
  {
   "cell_type": "code",
   "execution_count": 6,
   "metadata": {},
   "outputs": [
    {
     "ename": "FileNotFoundError",
     "evalue": "[Errno 2] No such file or directory: '../data/twitter_combined.txt'",
     "output_type": "error",
     "traceback": [
      "\u001b[0;31m---------------------------------------------------------------------------\u001b[0m",
      "\u001b[0;31mFileNotFoundError\u001b[0m                         Traceback (most recent call last)",
      "Cell \u001b[0;32mIn [6], line 9\u001b[0m\n\u001b[1;32m      6\u001b[0m \u001b[39m# n_vertices = 4039\u001b[39;00m\n\u001b[1;32m      8\u001b[0m \u001b[39mif\u001b[39;00m os\u001b[39m.\u001b[39mpath\u001b[39m.\u001b[39mexists(\u001b[39mf\u001b[39m\u001b[39m\"\u001b[39m\u001b[39m{\u001b[39;00mnetwork_path\u001b[39m}\u001b[39;00m\u001b[39m.pkl\u001b[39m\u001b[39m\"\u001b[39m) \u001b[39m==\u001b[39m \u001b[39mFalse\u001b[39;00m: \n\u001b[0;32m----> 9\u001b[0m     Data\u001b[39m.\u001b[39mpickle_network(network_path)\n",
      "File \u001b[0;32m~/code/uni/opinionDynamics/misinformation_intervention_multiagent/src/data.py:10\u001b[0m, in \u001b[0;36mData.pickle_network\u001b[0;34m(network_path)\u001b[0m\n\u001b[1;32m      9\u001b[0m \u001b[39mdef\u001b[39;00m \u001b[39mpickle_network\u001b[39m(network_path):\n\u001b[0;32m---> 10\u001b[0m     fb_network \u001b[39m=\u001b[39m \u001b[39mopen\u001b[39;49m(\u001b[39mf\u001b[39;49m\u001b[39m\"\u001b[39;49m\u001b[39m{\u001b[39;49;00mnetwork_path\u001b[39m}\u001b[39;49;00m\u001b[39m.txt\u001b[39;49m\u001b[39m\"\u001b[39;49m, \u001b[39m'\u001b[39;49m\u001b[39mr\u001b[39;49m\u001b[39m'\u001b[39;49m)\u001b[39m.\u001b[39mread()\n\u001b[1;32m     11\u001b[0m     lines \u001b[39m=\u001b[39m fb_network\u001b[39m.\u001b[39msplit(\u001b[39m\"\u001b[39m\u001b[39m\\n\u001b[39;00m\u001b[39m\"\u001b[39m)\n\u001b[1;32m     13\u001b[0m     \u001b[39m# df = pd.DataFrame()\u001b[39;00m\n\u001b[1;32m     14\u001b[0m     \u001b[39m# temp_df = pd.DataFrame()\u001b[39;00m\n",
      "\u001b[0;31mFileNotFoundError\u001b[0m: [Errno 2] No such file or directory: '../data/twitter_combined.txt'"
     ]
    }
   ],
   "source": [
    "network_path = \"data/twitter_combined\"\n",
    "# network_path = \"../data/facebook_combined.txt\"\n",
    "\n",
    "# Construct a graph with 5 vertices\n",
    "n_vertices = 81306\n",
    "# n_vertices = 4039\n",
    "\n",
    "if os.path.exists(f\"{network_path}.pkl\") == False: \n",
    "    Data.pickle_network(network_path)\n"
   ]
  },
  {
   "cell_type": "code",
   "execution_count": 11,
   "metadata": {},
   "outputs": [
    {
     "ename": "",
     "evalue": "",
     "output_type": "error",
     "traceback": [
      "\u001b[1;31mCanceled future for execute_request message before replies were done"
     ]
    },
    {
     "ename": "",
     "evalue": "",
     "output_type": "error",
     "traceback": [
      "\u001b[1;31mThe Kernel crashed while executing code in the the current cell or a previous cell. Please review the code in the cell(s) to identify a possible cause of the failure. Click <a href='https://aka.ms/vscodeJupyterKernelCrash'>here</a> for more info. View Jupyter <a href='command:jupyter.viewOutput'>log</a> for further details."
     ]
    }
   ],
   "source": [
    "\n",
    "network_df = pd.read_pickle(f\"{network_path}.pkl\")\n",
    "\n",
    "network_list = network_df.values.tolist()\n",
    "\n",
    "g = ig.Graph(n_vertices, network_df, directed=True)\n",
    "# Sigma(g, node_size=g.degree())"
   ]
  },
  {
   "cell_type": "code",
   "execution_count": null,
   "metadata": {},
   "outputs": [
    {
     "name": "stdout",
     "output_type": "stream",
     "text": [
      "agent 4 has               0.23604808973743452 of misinformation\n",
      "agent 0 has               0.8444218515250481 of misinformation\n",
      "agent 8 has               0.2267058593810488 of misinformation\n",
      "agent 6 has               0.793340083761663 of misinformation\n",
      "agent 2 has               0.9560342718892494 of misinformation\n",
      "agent 5 has               0.6229016948897019 of misinformation\n",
      "agent 7 has               0.32383276483316237 of misinformation\n",
      "agent 9 has               0.46300735781502145 of misinformation\n",
      "agent 1 has               0.13436424411240122 of misinformation\n",
      "agent 3 has               0.23796462709189137 of misinformation\n"
     ]
    },
    {
     "data": {
      "text/plain": [
       "(array([1., 3., 1., 1., 0., 1., 0., 0., 2., 1.]),\n",
       " array([0.13436424, 0.21653125, 0.29869825, 0.38086525, 0.46303226,\n",
       "        0.54519926, 0.62736626, 0.70953326, 0.79170027, 0.87386727,\n",
       "        0.95603427]),\n",
       " <BarContainer object of 10 artists>)"
      ]
     },
     "execution_count": 15,
     "metadata": {},
     "output_type": "execute_result"
    },
    {
     "data": {
      "image/png": "[encoded data removed]",
      "text/plain": [
       "<Figure size 432x288 with 1 Axes>"
      ]
     },
     "metadata": {
      "needs_background": "light"
     },
     "output_type": "display_data"
    }
   ],
   "source": [
    "\n",
    "test_model = NewsModel(10)\n",
    "\n",
    "test_model.step()\n",
    "\n",
    "agent_misinfo = [a.misinfo for a in test_model.schedule.agents]\n",
    "\n",
    "plt.hist(agent_misinfo) "
   ]
  }
 ],
 "metadata": {
  "kernelspec": {
   "display_name": "Python 3",
   "language": "python",
   "name": "python3"
  },
  "language_info": {
   "codemirror_mode": {
    "name": "ipython",
    "version": 3
   },
   "file_extension": ".py",
   "mimetype": "text/x-python",
   "name": "python",
   "nbconvert_exporter": "python",
   "pygments_lexer": "ipython3",
   "version": "3.10.6 (main, Nov 14 2022, 16:10:14) [GCC 11.3.0]"
  },
  "orig_nbformat": 4,
  "vscode": {
   "interpreter": {
    "hash": "916dbcbb3f70747c44a77c7bcd40155683ae19c65e1c03b4aa3499c5328201f1"
   }
  }
 },
 "nbformat": 4,
 "nbformat_minor": 2
}
