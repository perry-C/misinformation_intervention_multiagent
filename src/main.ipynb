{
 "cells": [
  {
   "cell_type": "code",
   "execution_count": 1,
   "metadata": {},
   "outputs": [],
   "source": [
    "\n",
    "%matplotlib inline\n",
    "from data import Data\n",
    "import matplotlib.pyplot as plt\n",
    "from scipy.stats import beta\n",
    "from social_model import SocialModel\n",
    "# from d3blocks import D3Blocks\n",
    "import pandas as pd\n",
    "from ipysigma import Sigma\n",
    "import pickle\n",
    "import numpy as np\n",
    "from parameter import AgentParameter\n",
    "from data import Data\n",
    "import networkx as nx\n",
    "from tqdm.notebook import trange\n",
    "from utils import *\n",
    "from network import get_network_stats\n",
    "import csv\n",
    "from os.path import exists "
   ]
  },
  {
   "cell_type": "code",
   "execution_count": 2,
   "metadata": {},
   "outputs": [],
   "source": [
    "G = pickle.load(open('data/networks/MIM/ego_net.pkl', 'rb'))\n",
    "# get_network_stats(G)"
   ]
  },
  {
   "cell_type": "code",
   "execution_count": 3,
   "metadata": {},
   "outputs": [
    {
     "data": {
      "application/vnd.jupyter.widget-view+json": {
       "model_id": "12701f64dda6495f8772e01c92e29b9d",
       "version_major": 2,
       "version_minor": 0
      },
      "text/plain": [
       "  0%|          | 0/1000 [00:00<?, ?it/s]"
      ]
     },
     "metadata": {},
     "output_type": "display_data"
    },
    {
     "name": "stdout",
     "output_type": "stream",
     "text": [
      "skipping 0, already exist...\n",
      "skipping 1, already exist...\n",
      "skipping 2, already exist...\n",
      "skipping 3, already exist...\n",
      "skipping 4, already exist...\n",
      "skipping 5, already exist...\n",
      "skipping 6, already exist...\n",
      "skipping 7, already exist...\n"
     ]
    },
    {
     "data": {
      "application/vnd.jupyter.widget-view+json": {
       "model_id": "b898117a417b48f5952b546b0dfa4d17",
       "version_major": 2,
       "version_minor": 0
      },
      "text/plain": [
       "  0%|          | 0/5 [00:00<?, ?it/s]"
      ]
     },
     "metadata": {},
     "output_type": "display_data"
    },
    {
     "data": {
      "application/vnd.jupyter.widget-view+json": {
       "model_id": "98b28726e95b4acca292180130635f5e",
       "version_major": 2,
       "version_minor": 0
      },
      "text/plain": [
       "  0%|          | 0/5 [00:00<?, ?it/s]"
      ]
     },
     "metadata": {},
     "output_type": "display_data"
    },
    {
     "ename": "KeyboardInterrupt",
     "evalue": "",
     "output_type": "error",
     "traceback": [
      "\u001b[0;31m---------------------------------------------------------------------------\u001b[0m",
      "\u001b[0;31mKeyboardInterrupt\u001b[0m                         Traceback (most recent call last)",
      "Cell \u001b[0;32mIn[3], line 14\u001b[0m\n\u001b[1;32m     11\u001b[0m test_model \u001b[39m=\u001b[39m SocialModel(G, agent_params)\n\u001b[1;32m     13\u001b[0m \u001b[39mfor\u001b[39;00m _ \u001b[39min\u001b[39;00m trange(config\u001b[39m.\u001b[39msimulation_periods, position\u001b[39m=\u001b[39m\u001b[39m1\u001b[39m, leave\u001b[39m=\u001b[39m\u001b[39mFalse\u001b[39;00m):           \n\u001b[0;32m---> 14\u001b[0m     test_model\u001b[39m.\u001b[39;49mstep()\n\u001b[1;32m     15\u001b[0m     \u001b[39m# agent_dfs = test_model.data_collector.get_agent_vars_dataframe()\u001b[39;00m\n\u001b[1;32m     16\u001b[0m     model_df \u001b[39m=\u001b[39m test_model\u001b[39m.\u001b[39mdata_collector\u001b[39m.\u001b[39mget_model_vars_dataframe()\n",
      "File \u001b[0;32m~/misinformation-intervention-multiagent/src/social_model.py:59\u001b[0m, in \u001b[0;36mSocialModel.step\u001b[0;34m(self)\u001b[0m\n\u001b[1;32m     56\u001b[0m \u001b[39mdef\u001b[39;00m \u001b[39mstep\u001b[39m(\u001b[39mself\u001b[39m):\n\u001b[1;32m     58\u001b[0m     \u001b[39mself\u001b[39m\u001b[39m.\u001b[39mdata_collector\u001b[39m.\u001b[39mcollect(\u001b[39mself\u001b[39m)\n\u001b[0;32m---> 59\u001b[0m     \u001b[39mself\u001b[39;49m\u001b[39m.\u001b[39;49mschedule\u001b[39m.\u001b[39;49mstep()\n",
      "File \u001b[0;32m~/.local/lib/python3.10/site-packages/mesa/time.py:129\u001b[0m, in \u001b[0;36mRandomActivation.step\u001b[0;34m(self)\u001b[0m\n\u001b[1;32m    124\u001b[0m \u001b[39m\u001b[39m\u001b[39m\"\"\"Executes the step of all agents, one at a time, in\u001b[39;00m\n\u001b[1;32m    125\u001b[0m \u001b[39mrandom order.\u001b[39;00m\n\u001b[1;32m    126\u001b[0m \n\u001b[1;32m    127\u001b[0m \u001b[39m\"\"\"\u001b[39;00m\n\u001b[1;32m    128\u001b[0m \u001b[39mfor\u001b[39;00m agent \u001b[39min\u001b[39;00m \u001b[39mself\u001b[39m\u001b[39m.\u001b[39magent_buffer(shuffled\u001b[39m=\u001b[39m\u001b[39mTrue\u001b[39;00m):\n\u001b[0;32m--> 129\u001b[0m     agent\u001b[39m.\u001b[39;49mstep()\n\u001b[1;32m    130\u001b[0m \u001b[39mself\u001b[39m\u001b[39m.\u001b[39msteps \u001b[39m+\u001b[39m\u001b[39m=\u001b[39m \u001b[39m1\u001b[39m\n\u001b[1;32m    131\u001b[0m \u001b[39mself\u001b[39m\u001b[39m.\u001b[39mtime \u001b[39m+\u001b[39m\u001b[39m=\u001b[39m \u001b[39m1\u001b[39m\n",
      "File \u001b[0;32m~/misinformation-intervention-multiagent/src/social_agent.py:93\u001b[0m, in \u001b[0;36mSocialAgent.step\u001b[0;34m(self)\u001b[0m\n\u001b[1;32m     84\u001b[0m \u001b[39mdef\u001b[39;00m \u001b[39mstep\u001b[39m(\u001b[39mself\u001b[39m):\n\u001b[1;32m     85\u001b[0m \u001b[39m    \u001b[39m\u001b[39m'''\u001b[39;00m\n\u001b[1;32m     86\u001b[0m \u001b[39m   \"Note that this rule assumes that agents exchange information (i.e.\u001b[39;00m\n\u001b[1;32m     87\u001b[0m \u001b[39m    αj,t and βj,t ) before processing new signals si,t+1.\" (w24462)\u001b[39;00m\n\u001b[0;32m   (...)\u001b[0m\n\u001b[1;32m     91\u001b[0m \u001b[39m    2. Receive information from unbiased source\u001b[39;00m\n\u001b[1;32m     92\u001b[0m \u001b[39m    '''\u001b[39;00m\n\u001b[0;32m---> 93\u001b[0m     \u001b[39mself\u001b[39;49m\u001b[39m.\u001b[39;49mupdate_belief()\n\u001b[1;32m     94\u001b[0m \u001b[39m    \u001b[39m\u001b[39m'''\u001b[39;00m\n\u001b[1;32m     95\u001b[0m \u001b[39m    Every agent in this model receives info from unbias sources,\u001b[39;00m\n\u001b[1;32m     96\u001b[0m \u001b[39m    however, some might ignore it like the bot\u001b[39;00m\n\u001b[1;32m     97\u001b[0m \u001b[39m    '''\u001b[39;00m\n",
      "File \u001b[0;32m~/misinformation-intervention-multiagent/src/social_agent.py:59\u001b[0m, in \u001b[0;36mSocialAgent.update_belief\u001b[0;34m(self)\u001b[0m\n\u001b[1;32m     54\u001b[0m \u001b[39mdef\u001b[39;00m \u001b[39mupdate_belief\u001b[39m(\u001b[39mself\u001b[39m):\n\u001b[1;32m     55\u001b[0m \u001b[39m    \u001b[39m\u001b[39m'''\u001b[39;00m\n\u001b[1;32m     56\u001b[0m \u001b[39m    The base class provides the update rules for regular agents and bot followers\u001b[39;00m\n\u001b[1;32m     57\u001b[0m \u001b[39m    The bot class does not share the same update rule (which will override the base method)\u001b[39;00m\n\u001b[1;32m     58\u001b[0m \u001b[39m    '''\u001b[39;00m\n\u001b[0;32m---> 59\u001b[0m     as_from_neighbors \u001b[39m=\u001b[39m \u001b[39msum\u001b[39m(n\u001b[39m.\u001b[39ma \u001b[39mfor\u001b[39;00m n \u001b[39min\u001b[39;00m \u001b[39mself\u001b[39;49m\u001b[39m.\u001b[39;49mget_neighbors())\n\u001b[1;32m     60\u001b[0m     bs_from_neighbors \u001b[39m=\u001b[39m \u001b[39msum\u001b[39m(n\u001b[39m.\u001b[39mb \u001b[39mfor\u001b[39;00m n \u001b[39min\u001b[39;00m \u001b[39mself\u001b[39m\u001b[39m.\u001b[39mget_neighbors())\n\u001b[1;32m     62\u001b[0m     \u001b[39mself\u001b[39m\u001b[39m.\u001b[39ma \u001b[39m=\u001b[39m (\u001b[39m1\u001b[39m \u001b[39m-\u001b[39m \u001b[39mself\u001b[39m\u001b[39m.\u001b[39mfriend_influence) \u001b[39m*\u001b[39m \\\n\u001b[1;32m     63\u001b[0m         (\u001b[39mself\u001b[39m\u001b[39m.\u001b[39ma \u001b[39m+\u001b[39m \u001b[39mself\u001b[39m\u001b[39m.\u001b[39mlearn_truth())\n",
      "File \u001b[0;32m~/misinformation-intervention-multiagent/src/social_agent.py:111\u001b[0m, in \u001b[0;36mRegularAgent.get_neighbors\u001b[0;34m(self)\u001b[0m\n\u001b[1;32m    105\u001b[0m \u001b[39mdef\u001b[39;00m \u001b[39mget_neighbors\u001b[39m(\u001b[39mself\u001b[39m):\n\u001b[1;32m    106\u001b[0m \u001b[39m    \u001b[39m\u001b[39m'''\u001b[39;00m\n\u001b[1;32m    107\u001b[0m \u001b[39m    There exists one essential difference between regular agents and bot followers:\u001b[39;00m\n\u001b[1;32m    108\u001b[0m \u001b[39m    Regular agent can distinguish thus filtering out the bots, hence it follows the \u001b[39;00m\n\u001b[1;32m    109\u001b[0m \u001b[39m    implementation of the base method\u001b[39;00m\n\u001b[1;32m    110\u001b[0m \u001b[39m    '''\u001b[39;00m\n\u001b[0;32m--> 111\u001b[0m     \u001b[39mreturn\u001b[39;00m \u001b[39msuper\u001b[39;49m()\u001b[39m.\u001b[39;49mget_neighbors()\n",
      "File \u001b[0;32m~/misinformation-intervention-multiagent/src/social_agent.py:49\u001b[0m, in \u001b[0;36mSocialAgent.get_neighbors\u001b[0;34m(self)\u001b[0m\n\u001b[1;32m     42\u001b[0m \u001b[39m\u001b[39m\u001b[39m'''\u001b[39;00m\n\u001b[1;32m     43\u001b[0m \u001b[39mReturns:\u001b[39;00m\n\u001b[1;32m     44\u001b[0m \u001b[39m    list[SocialAgents]\u001b[39;00m\n\u001b[1;32m     45\u001b[0m \u001b[39m'''\u001b[39;00m\n\u001b[1;32m     47\u001b[0m \u001b[39m# Filtering out neighbors based on result from a bernoulli draw\u001b[39;00m\n\u001b[1;32m     48\u001b[0m \u001b[39m# models the fact that a human is not likely to pay attention to every single piece of information\u001b[39;00m\n\u001b[0;32m---> 49\u001b[0m neighbors \u001b[39m=\u001b[39m [\u001b[39mself\u001b[39m\u001b[39m.\u001b[39mmodel\u001b[39m.\u001b[39mget_agent(\n\u001b[1;32m     50\u001b[0m     n) \u001b[39mfor\u001b[39;00m n \u001b[39min\u001b[39;00m nx\u001b[39m.\u001b[39mneighbors(\u001b[39mself\u001b[39m\u001b[39m.\u001b[39mG, \u001b[39mself\u001b[39m\u001b[39m.\u001b[39munique_id) \u001b[39mif\u001b[39;00m coin_flip()]\n\u001b[1;32m     52\u001b[0m \u001b[39mreturn\u001b[39;00m neighbors\n",
      "File \u001b[0;32m~/misinformation-intervention-multiagent/src/social_agent.py:50\u001b[0m, in \u001b[0;36m<listcomp>\u001b[0;34m(.0)\u001b[0m\n\u001b[1;32m     42\u001b[0m \u001b[39m\u001b[39m\u001b[39m'''\u001b[39;00m\n\u001b[1;32m     43\u001b[0m \u001b[39mReturns:\u001b[39;00m\n\u001b[1;32m     44\u001b[0m \u001b[39m    list[SocialAgents]\u001b[39;00m\n\u001b[1;32m     45\u001b[0m \u001b[39m'''\u001b[39;00m\n\u001b[1;32m     47\u001b[0m \u001b[39m# Filtering out neighbors based on result from a bernoulli draw\u001b[39;00m\n\u001b[1;32m     48\u001b[0m \u001b[39m# models the fact that a human is not likely to pay attention to every single piece of information\u001b[39;00m\n\u001b[1;32m     49\u001b[0m neighbors \u001b[39m=\u001b[39m [\u001b[39mself\u001b[39m\u001b[39m.\u001b[39mmodel\u001b[39m.\u001b[39mget_agent(\n\u001b[0;32m---> 50\u001b[0m     n) \u001b[39mfor\u001b[39;00m n \u001b[39min\u001b[39;00m nx\u001b[39m.\u001b[39mneighbors(\u001b[39mself\u001b[39m\u001b[39m.\u001b[39mG, \u001b[39mself\u001b[39m\u001b[39m.\u001b[39munique_id) \u001b[39mif\u001b[39;00m coin_flip()]\n\u001b[1;32m     52\u001b[0m \u001b[39mreturn\u001b[39;00m neighbors\n",
      "File \u001b[0;32m~/misinformation-intervention-multiagent/src/utils.py:47\u001b[0m, in \u001b[0;36mcoin_flip\u001b[0;34m(prob)\u001b[0m\n\u001b[1;32m     43\u001b[0m \u001b[39mdef\u001b[39;00m \u001b[39mcoin_flip\u001b[39m(prob: \u001b[39mfloat\u001b[39m \u001b[39m=\u001b[39m config\u001b[39m.\u001b[39mcommunication_speed) \u001b[39m-\u001b[39m\u001b[39m>\u001b[39m \u001b[39mbool\u001b[39m:\n\u001b[1;32m     44\u001b[0m \u001b[39m    \u001b[39m\u001b[39m'''\u001b[39;00m\n\u001b[1;32m     45\u001b[0m \u001b[39m    A single sample from the Bernoulli distribution\u001b[39;00m\n\u001b[1;32m     46\u001b[0m \u001b[39m    '''\u001b[39;00m\n\u001b[0;32m---> 47\u001b[0m     result \u001b[39m=\u001b[39m \u001b[39mbool\u001b[39m(binomial(\n\u001b[1;32m     48\u001b[0m         \u001b[39m1\u001b[39;49m, prob, \u001b[39m1\u001b[39;49m)[\u001b[39m0\u001b[39m])\n\u001b[1;32m     50\u001b[0m     \u001b[39mreturn\u001b[39;00m result\n",
      "\u001b[0;31mKeyboardInterrupt\u001b[0m: "
     ]
    }
   ],
   "source": [
    "for i in trange(config.simulation_number, position=0):      \n",
    "    params_path = f'data/networks/MIM/agent_params/agent_params_{i}.pkl'\n",
    "    result_path = f'data/networks/MIM/results/result_{i}.csv'\n",
    "    with open(params_path, mode='rb') as fp:\n",
    "        if exists(result_path):\n",
    "            print(f'skipping {i}, already exist...')\n",
    "            continue\n",
    "        agent_params = pickle.load(fp)\n",
    "        \n",
    "    # Initialise the agents based on the agent_parameters\n",
    "    test_model = SocialModel(G, agent_params)\n",
    "        \n",
    "    for _ in trange(config.simulation_periods, position=1, leave=False):           \n",
    "        test_model.step()\n",
    "        # agent_dfs = test_model.data_collector.get_agent_vars_dataframe()\n",
    "        model_df = test_model.data_collector.get_model_vars_dataframe()\n",
    "    \n",
    "    model_df.to_csv(result_path)\n",
    "    \n",
    "        \n",
    "\n",
    "\n",
    "\n",
    "# print(agent_dfs)"
   ]
  }
 ],
 "metadata": {
  "kernelspec": {
   "display_name": "Python 3",
   "language": "python",
   "name": "python3"
  },
  "language_info": {
   "codemirror_mode": {
    "name": "ipython",
    "version": 3
   },
   "file_extension": ".py",
   "mimetype": "text/x-python",
   "name": "python",
   "nbconvert_exporter": "python",
   "pygments_lexer": "ipython3",
   "version": "3.10.6"
  },
  "orig_nbformat": 4,
  "vscode": {
   "interpreter": {
    "hash": "916dbcbb3f70747c44a77c7bcd40155683ae19c65e1c03b4aa3499c5328201f1"
   }
  }
 },
 "nbformat": 4,
 "nbformat_minor": 2
}
