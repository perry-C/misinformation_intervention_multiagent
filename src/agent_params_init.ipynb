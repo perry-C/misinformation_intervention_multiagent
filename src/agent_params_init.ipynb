{
 "cells": [
  {
   "cell_type": "code",
   "execution_count": 1,
   "metadata": {},
   "outputs": [
    {
     "name": "stderr",
     "output_type": "stream",
     "text": [
      "100%|██████████| 1000/1000 [00:14<00:00, 70.52it/s]\n"
     ]
    }
   ],
   "source": [
    "%matplotlib inline\n",
    "from data import Data\n",
    "import pickle\n",
    "import numpy as np\n",
    "from parameter import AgentParameter\n",
    "from data import Data\n",
    "from tqdm import trange\n",
    "from utils import *\n",
    "\n",
    "for i in trange(config.simulation_number):\n",
    "    '''\n",
    "    The only differences across networks is the location of these\n",
    "    agents and the identity of the bot they follow.\n",
    "    '''\n",
    "    agents_params = Data.generate_agent_params(i)\n",
    "    \n",
    "    with open(f'data/networks/MIM/agent_params/agent_params_{i}.pkl', mode='wb') as fp:\n",
    "      pickle.dump(agents_params, fp)\n",
    "   "
   ]
  }
 ],
 "metadata": {
  "kernelspec": {
   "display_name": "Python 3",
   "language": "python",
   "name": "python3"
  },
  "language_info": {
   "codemirror_mode": {
    "name": "ipython",
    "version": 3
   },
   "file_extension": ".py",
   "mimetype": "text/x-python",
   "name": "python",
   "nbconvert_exporter": "python",
   "pygments_lexer": "ipython3",
   "version": "3.10.6"
  },
  "orig_nbformat": 4
 },
 "nbformat": 4,
 "nbformat_minor": 2
}
